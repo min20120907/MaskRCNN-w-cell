{
  "nbformat": 4,
  "nbformat_minor": 0,
  "metadata": {
    "colab": {
      "name": "predictive_keyboard.ipynb",
      "provenance": [],
      "collapsed_sections": [],
      "toc_visible": true,
      "include_colab_link": true
    },
    "kernelspec": {
      "name": "python3",
      "display_name": "Python 3"
    },
    "accelerator": "GPU"
  },
  "cells": [
    {
      "cell_type": "markdown",
      "metadata": {
        "id": "view-in-github",
        "colab_type": "text"
      },
      "source": [
        "<a href=\"https://colab.research.google.com/github/min20120907/MaskRCNN-w-cell/blob/master/predictive_keyboard.ipynb\" target=\"_parent\"><img src=\"https://colab.research.google.com/assets/colab-badge.svg\" alt=\"Open In Colab\"/></a>"
      ]
    },
    {
      "cell_type": "markdown",
      "metadata": {
        "id": "Cz60KXrShi4P",
        "colab_type": "text"
      },
      "source": [
        "# 從URL載入、整理訓練資料"
      ]
    },
    {
      "cell_type": "code",
      "metadata": {
        "id": "YktO7i4rSXMK",
        "colab_type": "code",
        "outputId": "baf8c47c-e913-43aa-d819-97d559615c26",
        "colab": {
          "base_uri": "https://localhost:8080/",
          "height": 309
        }
      },
      "source": [
        "import matplotlib.pyplot as plt\n",
        "import numpy as np\n",
        "from urllib.request import urlopen\n",
        "from tensorflow.keras.layers import LSTM, Dense\n",
        "from tensorflow.keras.models import Sequential\n",
        "from tensorflow.keras.utils import plot_model\n",
        "\n",
        "# make English alphabet set\n",
        "chars = ['a', 'b', 'c', 'd', 'e', 'f', 'g', 'h', 'i', 'j', 'k', 'l', 'm', 'n', 'o', 'p', 'q', 'r', 's', 't', 'u', 'v', 'w', 'x', 'y', 'z', ' ', ',', '.', '!']\n",
        "char_index = dict((c, i) for i, c in enumerate(chars))\n",
        "index_char = dict((i, c) for i, c in enumerate(chars))\n",
        "print('char_index:')\n",
        "print(char_index)\n",
        "print('index_char:')\n",
        "print(index_char)\n",
        "\n",
        "# read training data from url\n",
        "raw_text = urlopen('https://raw.githubusercontent.com/rushter/MLAlgorithms/master/mla/datasets/data/nietzsche.txt').read().decode('utf-8').lower()\n",
        "\n",
        "# reserve the English alphabets only\n",
        "text = []\n",
        "for ch in raw_text:\n",
        "    if ch in chars:\n",
        "        text.append(ch)\n",
        "    elif ch == '\\n':\n",
        "        text.append(' ')\n",
        "print('text length:', len(text))\n",
        "\n",
        "# compose sentences list and next_chars list\n",
        "SEQUENCE_LENGTH = 20\n",
        "step = 3\n",
        "sentences = []\n",
        "next_chars = []\n",
        "for i in range(0, len(text) - SEQUENCE_LENGTH, step):\n",
        "    sentences.append(text[i: i + SEQUENCE_LENGTH])\n",
        "    next_chars.append(text[i + SEQUENCE_LENGTH])\n",
        "print('num training examples: {0}'.format(len(sentences)))\n",
        "\n",
        "# convert sentences list and next_chars list to training data format\n",
        "X = np.zeros((len(sentences), SEQUENCE_LENGTH, len(chars)), dtype=np.bool)\n",
        "Y = np.zeros((len(sentences), len(chars)), dtype=np.bool)\n",
        "for i, sentence in enumerate(sentences):\n",
        "    for t, char in enumerate(sentence):\n",
        "        X[i, t, char_index[char]] = True\n",
        "    Y[i, char_index[next_chars[i]]] = True\n",
        "\n",
        "print(sentences[1])\n",
        "print(next_chars[1])\n",
        "print(X[1][0])\n",
        "print(Y[1])\n",
        "print(X.shape)\n",
        "print(Y.shape)"
      ],
      "execution_count": 0,
      "outputs": [
        {
          "output_type": "stream",
          "text": [
            "char_index:\n",
            "{'a': 0, 'b': 1, 'c': 2, 'd': 3, 'e': 4, 'f': 5, 'g': 6, 'h': 7, 'i': 8, 'j': 9, 'k': 10, 'l': 11, 'm': 12, 'n': 13, 'o': 14, 'p': 15, 'q': 16, 'r': 17, 's': 18, 't': 19, 'u': 20, 'v': 21, 'w': 22, 'x': 23, 'y': 24, 'z': 25, ' ': 26, ',': 27, '.': 28, '!': 29}\n",
            "index_char:\n",
            "{0: 'a', 1: 'b', 2: 'c', 3: 'd', 4: 'e', 5: 'f', 6: 'g', 7: 'h', 8: 'i', 9: 'j', 10: 'k', 11: 'l', 12: 'm', 13: 'n', 14: 'o', 15: 'p', 16: 'q', 17: 'r', 18: 's', 19: 't', 20: 'u', 21: 'v', 22: 'w', 23: 'x', 24: 'y', 25: 'z', 26: ' ', 27: ',', 28: '.', 29: '!'}\n",
            "text length: 590757\n",
            "num training examples: 196913\n",
            "['f', 'a', 'c', 'e', ' ', ' ', ' ', 's', 'u', 'p', 'p', 'o', 's', 'i', 'n', 'g', ' ', 't', 'h', 'a']\n",
            "t\n",
            "[False False False False False  True False False False False False False\n",
            " False False False False False False False False False False False False\n",
            " False False False False False False]\n",
            "[False False False False False False False False False False False False\n",
            " False False False False False False False  True False False False False\n",
            " False False False False False False]\n",
            "(196913, 20, 30)\n",
            "(196913, 30)\n"
          ],
          "name": "stdout"
        }
      ]
    },
    {
      "cell_type": "markdown",
      "metadata": {
        "id": "qP8xS6iNU78H",
        "colab_type": "text"
      },
      "source": [
        "# 訓練模型、繪製訓練過程的記錄"
      ]
    },
    {
      "cell_type": "code",
      "metadata": {
        "id": "8X89ceNKoM00",
        "colab_type": "code",
        "outputId": "03f44398-432b-4448-d37d-a6151d56aeee",
        "colab": {
          "base_uri": "https://localhost:8080/",
          "height": 964
        }
      },
      "source": [
        "# create the LSTM model\n",
        "model = Sequential()\n",
        "model.add(LSTM(128, input_shape=(SEQUENCE_LENGTH, len(chars))))\n",
        "model.add(Dense(len(chars), activation='softmax'))\n",
        "model.compile(loss='categorical_crossentropy', optimizer='Adam', metrics=['accuracy'])\n",
        "print(model.summary())\n",
        "\n",
        "# start training\n",
        "history = model.fit(X, Y, validation_split=0.05, batch_size=50, epochs=5, shuffle=True).history\n",
        "\n",
        "# draw losses chart\n",
        "plt.title('Training Losses')\n",
        "plt.plot(history['loss'], label='train')\n",
        "plt.plot(history['val_loss'], label='test')\n",
        "plt.ylabel('Loss')\n",
        "plt.xlabel('Epoch')\n",
        "plt.legend()\n",
        "plt.show()\n",
        "\n",
        "# draw accuracy chart\n",
        "plt.title('Model Accuracy')\n",
        "plt.plot(history['accuracy'], label='train')\n",
        "plt.plot(history['val_accuracy'], label='test')\n",
        "plt.ylabel('Accuracy')\n",
        "plt.xlabel('Epoch')\n",
        "plt.legend()\n",
        "plt.show()"
      ],
      "execution_count": 0,
      "outputs": [
        {
          "output_type": "stream",
          "text": [
            "Model: \"sequential\"\n",
            "_________________________________________________________________\n",
            "Layer (type)                 Output Shape              Param #   \n",
            "=================================================================\n",
            "lstm (LSTM)                  (None, 128)               81408     \n",
            "_________________________________________________________________\n",
            "dense (Dense)                (None, 30)                3870      \n",
            "=================================================================\n",
            "Total params: 85,278\n",
            "Trainable params: 85,278\n",
            "Non-trainable params: 0\n",
            "_________________________________________________________________\n",
            "None\n",
            "Epoch 1/5\n",
            "3742/3742 [==============================] - 32s 9ms/step - loss: 2.2140 - accuracy: 0.3501 - val_loss: 1.9150 - val_accuracy: 0.4317\n",
            "Epoch 2/5\n",
            "3742/3742 [==============================] - 32s 9ms/step - loss: 1.8452 - accuracy: 0.4457 - val_loss: 1.7207 - val_accuracy: 0.4816\n",
            "Epoch 3/5\n",
            "3742/3742 [==============================] - 32s 9ms/step - loss: 1.6912 - accuracy: 0.4898 - val_loss: 1.6169 - val_accuracy: 0.5130\n",
            "Epoch 4/5\n",
            "3742/3742 [==============================] - 33s 9ms/step - loss: 1.5911 - accuracy: 0.5193 - val_loss: 1.5581 - val_accuracy: 0.5317\n",
            "Epoch 5/5\n",
            "3742/3742 [==============================] - 32s 9ms/step - loss: 1.5212 - accuracy: 0.5400 - val_loss: 1.5240 - val_accuracy: 0.5377\n"
          ],
          "name": "stdout"
        },
        {
          "output_type": "display_data",
          "data": {
            "image/png": "[encoded data removed]",
            "text/plain": [
              "<Figure size 432x288 with 1 Axes>"
            ]
          },
          "metadata": {
            "tags": [],
            "needs_background": "light"
          }
        },
        {
          "output_type": "display_data",
          "data": {
            "image/png": "[encoded data removed]",
            "text/plain": [
              "<Figure size 432x288 with 1 Axes>"
            ]
          },
          "metadata": {
            "tags": [],
            "needs_background": "light"
          }
        }
      ]
    },
    {
      "cell_type": "markdown",
      "metadata": {
        "id": "rZcgJX3pU-Qw",
        "colab_type": "text"
      },
      "source": [
        "# 讓模型來預測看看是否有能力補齊單字"
      ]
    },
    {
      "cell_type": "code",
      "metadata": {
        "id": "LBuAGis2ThWS",
        "colab_type": "code",
        "outputId": "75484d00-40fc-43f1-b399-1a873e5ad2a2",
        "colab": {
          "base_uri": "https://localhost:8080/",
          "height": 323
        }
      },
      "source": [
        "import heapq\n",
        "\n",
        "# convert sentense to match the input format\n",
        "def prepare_input(text):\n",
        "    x = np.zeros((1, SEQUENCE_LENGTH, len(chars)), dtype=np.bool)\n",
        "    for i, char in enumerate(text.lower()):\n",
        "        x[0, SEQUENCE_LENGTH-len(text)+i, char_index[char]] = True\n",
        "    return x\n",
        "\n",
        "# get indices of top_n largest values\n",
        "def nlargest(preds, top_n):\n",
        "    return heapq.nlargest(top_n, range(len(preds)), preds.take)\n",
        "\n",
        "# complete the prediction of the following words\n",
        "def predict_completion(text):\n",
        "    original_text = text\n",
        "    completion = ''\n",
        "    while True:\n",
        "        x = prepare_input(text)\n",
        "        preds = model.predict(x, verbose=0)[0]\n",
        "        next_index = nlargest(preds, top_n=1)[0]\n",
        "        next_char = index_char[next_index]\n",
        "        text = text[1:] + next_char\n",
        "        completion += next_char\n",
        "        \n",
        "        if next_char == ' ':\n",
        "            return completion\n",
        "\n",
        "# predict n possible following words\n",
        "def predict_completions(text, n):\n",
        "    x = prepare_input(text)\n",
        "    preds = model.predict(x, verbose=0)[0]\n",
        "    next_indices = nlargest(preds, n)\n",
        "    return [index_char[idx] + predict_completion(text[1:] + index_char[idx]) for idx in next_indices]\n",
        "\n",
        "\n",
        "\n",
        "quotes = [\n",
        "    \"It is not a lack of love, but a lack of friendship that makes unhappy marriages.\",\n",
        "    \"That which does not kill us makes us stronger.\",\n",
        "    \"Im not upset that you lied to me, Im upset that from now on I cant believe you.\",\n",
        "    \"And those who were seen dancing were thought to be insane by those who could not hear the music.\",\n",
        "    \"It is hard enough to remember my opinions, without also remembering my reasons for them!\",\n",
        "    \"Im pretty sure that there are many ways to do this, but I fiddled around and came up with a version of my own.\"\n",
        "]\n",
        "\n",
        "for q in quotes:\n",
        "    seq = q[:20].lower()\n",
        "    print(seq)\n",
        "    print(predict_completions(seq, 5))\n",
        "    print()"
      ],
      "execution_count": 0,
      "outputs": [
        {
          "output_type": "stream",
          "text": [
            "it is not a lack of \n",
            "['the ', 'something ', 'his ', 'all ', 'man ']\n",
            "\n",
            "that which does not \n",
            "['there ', 'be ', 'destrouse ', 'it ', 'as ']\n",
            "\n",
            "im not upset that yo\n",
            "['u ', ' so ', 't ', 'w ', 'r ']\n",
            "\n",
            "and those who were s\n",
            "['trange ', 'omething ', 'uch ', 'ympathy ', 'ense ']\n",
            "\n",
            "it is hard enough to\n",
            "[' the ', 'o ', 'me ', 'ust ', 're ']\n",
            "\n",
            "im pretty sure that \n",
            "['the ', 'is ', 'a ', 'has ', 'which ']\n",
            "\n"
          ],
          "name": "stdout"
        }
      ]
    }
  ]
}